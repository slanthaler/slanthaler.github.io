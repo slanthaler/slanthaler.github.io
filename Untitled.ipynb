{
 "cells": [
  {
   "cell_type": "code",
   "execution_count": 12,
   "id": "creative-arrangement",
   "metadata": {},
   "outputs": [
    {
     "name": "stdout",
     "output_type": "stream",
     "text": [
      "['Sam P. Lan', 'Hans E. Ban', 'Dan Can']\n"
     ]
    }
   ],
   "source": [
    "authors = \"Sam P. Lan, Hans E. Ban and Dan Can\"\n",
    "commsep,last = authors.split('and')\n",
    "commsep = commsep.split(',')\n",
    "authorlist = [x.strip() for x in commsep] + [last.strip()]\n",
    "print(authorlist)"
   ]
  },
  {
   "cell_type": "code",
   "execution_count": 47,
   "id": "agreed-fellowship",
   "metadata": {},
   "outputs": [],
   "source": [
    "def bibtexify_authors(authors):\n",
    "    if len(authors.split('and'))<2:\n",
    "        return authors\n",
    "    # determine the authorlist in format firstname(s) + lastname\n",
    "    commsep,last = authors.split('and')\n",
    "    commsep = commsep.split(',')\n",
    "    authorlist = [x.strip() for x in commsep] + [last.strip()]\n",
    "    # rewrite as and-separated list of lastname, firstname(s)\n",
    "    texlist = []\n",
    "    for x in authorlist:\n",
    "        firstnames,lastname = x.rsplit(' ',1)\n",
    "        x = ', '.join((lastname,firstnames))\n",
    "        texlist.append(x)\n",
    "        \n",
    "    return ' and '.join(texlist)"
   ]
  },
  {
   "cell_type": "code",
   "execution_count": 48,
   "id": "commercial-novelty",
   "metadata": {},
   "outputs": [
    {
     "name": "stdout",
     "output_type": "stream",
     "text": [
      "Sam P. Lan and Hans E. Ban\n",
      "Lan, Sam P. and Ban, Hans E.\n"
     ]
    }
   ],
   "source": [
    "authors = \"Sam P. Lan, Hans E. Ban and Dan Can\"\n",
    "authors = \"Sam P. Lan and Hans E. Ban\"\n",
    "print(authors)\n",
    "bauthors = bibtexify_authors(authors)\n",
    "print(bauthors)"
   ]
  },
  {
   "cell_type": "code",
   "execution_count": 27,
   "id": "allied-harmony",
   "metadata": {},
   "outputs": [
    {
     "name": "stdout",
     "output_type": "stream",
     "text": [
      "@article{LM2015,\n",
      "    title = {Computation of measure-valued solutions for the incompressible Euler equations},\n",
      "    journal = {Mathematical Models and Methods in Applied Sciences},\n",
      "    volume = {25},\n",
      "    number = {11},\n",
      "    pages = {2043--2088},\n",
      "    year = {2015},\n",
      "    publisher = {World Scientific},\n",
      "    doi = {https://doi.org/10.1142/S0218202515500529},\n",
      "    eprint = {1411.5064},\n",
      "    author = {Lanthaler, Samuel  and Mishra, Siddhartha }\n",
      "}\n",
      "\n",
      "\n"
     ]
    }
   ],
   "source": [
    "def replace_quotes_by_braces(string):\n",
    "    # split input string at newline characters\n",
    "    string = string.split(\"\\n\") \n",
    "    # \n",
    "    string_new = \"\"\n",
    "    for line in string:\n",
    "        # find indices containing \" \"\n",
    "        indx = [i for i, ltr in enumerate(line) if ltr == '\"']\n",
    "        # replace the \" \" by { }\n",
    "        line_new = line\n",
    "        if len(indx)==2:\n",
    "            line_new = line[:indx[0]] + '{' + line[indx[0]+1:indx[1]] + '}' + line[indx[1]+1:]\n",
    "        # insert into new string\n",
    "        string_new += line_new + '\\n'\n",
    "    return string_new\n",
    "    \n",
    "string = ['@article{LM2015,', '    title = \"Computation of measure-valued solutions for the incompressible Euler equations\",', '    journal = \"Mathematical Models and Methods in Applied Sciences\",', '    volume = \"25\",', '    number = \"11\",', '    pages = \"2043--2088\",', '    year = \"2015\",', '    publisher = \"World Scientific\",', '    doi = \"https://doi.org/10.1142/S0218202515500529\",', '    eprint = \"1411.5064\",', '    author = \"Lanthaler, Samuel  and Mishra, Siddhartha \"', '}']\n",
    "string0 = [line + '\\n' for line in string]\n",
    "string0 = ''.join(string0)\n",
    "\n",
    "string_new = replace_quotes_by_braces(string0)\n",
    "print(string_new)"
   ]
  },
  {
   "cell_type": "code",
   "execution_count": 23,
   "id": "municipal-antarctica",
   "metadata": {},
   "outputs": [],
   "source": []
  },
  {
   "cell_type": "code",
   "execution_count": 24,
   "id": "distributed-emperor",
   "metadata": {},
   "outputs": [
    {
     "data": {
      "text/plain": [
       "'@article{LM2015,\\n    title = \"Computation of measure-valued solutions for the incompressible Euler equations\",\\n    journal = \"Mathematical Models and Methods in Applied Sciences\",\\n    volume = \"25\",\\n    number = \"11\",\\n    pages = \"2043--2088\",\\n    year = \"2015\",\\n    publisher = \"World Scientific\",\\n    doi = \"https://doi.org/10.1142/S0218202515500529\",\\n    eprint = \"1411.5064\",\\n    author = \"Lanthaler, Samuel  and Mishra, Siddhartha \"\\n}\\n'"
      ]
     },
     "execution_count": 24,
     "metadata": {},
     "output_type": "execute_result"
    }
   ],
   "source": [
    "string0"
   ]
  },
  {
   "cell_type": "code",
   "execution_count": null,
   "id": "seventh-rebel",
   "metadata": {},
   "outputs": [],
   "source": []
  }
 ],
 "metadata": {
  "kernelspec": {
   "display_name": "Python 3 (ipykernel)",
   "language": "python",
   "name": "python3"
  },
  "language_info": {
   "codemirror_mode": {
    "name": "ipython",
    "version": 3
   },
   "file_extension": ".py",
   "mimetype": "text/x-python",
   "name": "python",
   "nbconvert_exporter": "python",
   "pygments_lexer": "ipython3",
   "version": "3.8.16"
  }
 },
 "nbformat": 4,
 "nbformat_minor": 5
}
